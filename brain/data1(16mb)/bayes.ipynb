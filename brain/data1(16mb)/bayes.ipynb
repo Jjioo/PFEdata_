{
  "nbformat": 4,
  "nbformat_minor": 0,
  "metadata": {
    "colab": {
      "provenance": [],
      "gpuType": "T4"
    },
    "kernelspec": {
      "name": "python3",
      "display_name": "Python 3"
    },
    "language_info": {
      "name": "python"
    },
    "accelerator": "GPU"
  },
  "cells": [
    {
      "cell_type": "code",
      "execution_count": null,
      "metadata": {
        "id": "Ol3p6NHqOMQg"
      },
      "outputs": [],
      "source": [
        "import warnings\n",
        "warnings.filterwarnings('ignore')\n"
      ]
    },
    {
      "cell_type": "code",
      "source": [
        "import tensorflow as tf\n",
        "print(tf.__version__)\n",
        "\n",
        "import keras\n",
        "print(keras.__version__)\n",
        "\n",
        "import numpy as np\n",
        "print(np.__version__)"
      ],
      "metadata": {
        "colab": {
          "base_uri": "https://localhost:8080/"
        },
        "id": "v_Dsb0qZOj-h",
        "outputId": "96224d11-abd8-41e7-ce72-0ec8dd73ce30"
      },
      "execution_count": null,
      "outputs": [
        {
          "output_type": "stream",
          "name": "stdout",
          "text": [
            "2.15.0\n",
            "2.15.0\n",
            "1.23.5\n"
          ]
        }
      ]
    },
    {
      "cell_type": "code",
      "source": [
        "!pip install tensorflow==2.15.0\n",
        "!pip install keras==2.4.0"
      ],
      "metadata": {
        "id": "t4LCnVDqS6jg"
      },
      "execution_count": null,
      "outputs": []
    },
    {
      "cell_type": "code",
      "source": [
        "!mkdir -p ~/.kaggle\n",
        "!mv kaggle.json ~/.kaggle/\n",
        "!chmod 600 ~/.kaggle/kaggle.json"
      ],
      "metadata": {
        "id": "hTd5xOb7OlKJ"
      },
      "execution_count": null,
      "outputs": []
    },
    {
      "cell_type": "code",
      "source": [
        "!kaggle datasets download -d navoneel/brain-mri-images-for-brain-tumor-detection"
      ],
      "metadata": {
        "colab": {
          "base_uri": "https://localhost:8080/"
        },
        "id": "-fY5VSgSO620",
        "outputId": "80c943af-f96b-454a-a914-7234a669345e"
      },
      "execution_count": null,
      "outputs": [
        {
          "output_type": "stream",
          "name": "stdout",
          "text": [
            "Downloading brain-mri-images-for-brain-tumor-detection.zip to /content\n",
            "\r  0% 0.00/15.1M [00:00<?, ?B/s]\r 46% 7.00M/15.1M [00:00<00:00, 73.3MB/s]\n",
            "\r100% 15.1M/15.1M [00:00<00:00, 102MB/s] \n"
          ]
        }
      ]
    },
    {
      "cell_type": "code",
      "source": [
        "import zipfile\n",
        "zip_file_path = '/content/brain-mri-images-for-brain-tumor-detection.zip'\n",
        "with zipfile.ZipFile(zip_file_path, 'r') as zip_ref:\n",
        "    zip_ref.extractall('/content/brain_tumor_dataset')"
      ],
      "metadata": {
        "id": "bZN3TQXGOzrI"
      },
      "execution_count": null,
      "outputs": []
    },
    {
      "cell_type": "code",
      "source": [
        "import os\n",
        "import random\n",
        "import csv\n",
        "\n",
        "# Path to the data folder containing the two class folders (yes and no)\n",
        "data_folder = \"brain_tumor_dataset\"\n",
        "\n",
        "# List to store image paths and corresponding labels\n",
        "data = []\n",
        "\n",
        "# Loop through each class folder\n",
        "for class_label in [\"yes\", \"no\"]:\n",
        "    class_folder = os.path.join(data_folder, class_label)\n",
        "    # Get list of image files in the folder\n",
        "    images = os.listdir(class_folder)\n",
        "    # Iterate through each image\n",
        "    for img in images:\n",
        "        # Append image path and corresponding label to the data list\n",
        "        data.append((os.path.join(class_label, img), 1 if class_label == \"yes\" else 0))\n",
        "\n",
        "# Shuffle the data\n",
        "random.shuffle(data)\n",
        "\n",
        "# Path to save the CSV file\n",
        "csv_file = \"data.csv\"\n",
        "\n",
        "# Write data to CSV file\n",
        "with open(csv_file, 'w', newline='') as file:\n",
        "    writer = csv.writer(file)\n",
        "    # Write header\n",
        "    writer.writerow(['Image', 'Label'])\n",
        "    # Write data rows\n",
        "    writer.writerows(data)\n",
        "\n",
        "print(\"CSV file created successfully.\")\n"
      ],
      "metadata": {
        "colab": {
          "base_uri": "https://localhost:8080/"
        },
        "id": "AqtPm225O3RO",
        "outputId": "a4d68028-6b4a-4906-f8dd-002aa7fa5dfb"
      },
      "execution_count": null,
      "outputs": [
        {
          "output_type": "stream",
          "name": "stdout",
          "text": [
            "CSV file created successfully.\n"
          ]
        }
      ]
    },
    {
      "cell_type": "code",
      "source": [
        "from datetime import datetime\n",
        "import time\n",
        "\n",
        "import matplotlib.pyplot as plt\n",
        "\n",
        "import torch\n",
        "import torch.nn as nn\n",
        "import torch.optim as optim\n",
        "import torchvision\n",
        "import torchvision.transforms as transforms\n",
        "\n",
        "from tensorflow.keras.preprocessing.image import ImageDataGenerator\n",
        "from tensorflow.keras.applications import DenseNet121, VGG16\n",
        "from tensorflow.keras.models import Model, Sequential\n",
        "from tensorflow.keras.layers import Input, Conv2D, MaxPooling2D, Dropout, Conv2DTranspose, concatenate, Dense, GlobalAveragePooling2D, BatchNormalization, Flatten\n",
        "from tensorflow.keras.preprocessing.image import ImageDataGenerator\n",
        "from tensorflow.keras.applications import VGG16\n",
        "from tensorflow.keras.models import Sequential\n",
        "from tensorflow.keras.layers import Dense, Flatten, Dropout\n",
        "from tensorflow.keras.optimizers import Adam\n",
        "from tensorflow.keras.preprocessing.image import ImageDataGenerator\n",
        "import time\n",
        "import matplotlib.pyplot as plt\n",
        "from tensorflow.keras.models import Model\n",
        "from tensorflow.keras.layers import Input, Conv2D, MaxPooling2D, Dropout, Conv2DTranspose, concatenate, Dense, GlobalAveragePooling2D, BatchNormalization\n",
        "import time\n",
        "import matplotlib.pyplot as plt\n",
        "from tensorflow.keras.models import Sequential\n",
        "from tensorflow.keras.layers import Conv2D, MaxPooling2D, Flatten, Dense\n",
        "import time\n",
        "import matplotlib.pyplot as plt\n",
        "import torch\n",
        "import torchvision\n",
        "import torchvision.transforms as transforms\n",
        "import torch.nn as nn\n",
        "import torch.optim as optim\n",
        "import matplotlib.pyplot as plt\n",
        "import time\n",
        "import os"
      ],
      "metadata": {
        "id": "ZQKZIbiQO_1L"
      },
      "execution_count": null,
      "outputs": []
    },
    {
      "cell_type": "code",
      "source": [
        "import os\n",
        "import csv\n",
        "import random\n",
        "import shutil\n",
        "\n",
        "# Load data from CSV file\n",
        "csv_file = \"data.csv\"\n",
        "data = []\n",
        "with open(csv_file, 'r') as file:\n",
        "    reader = csv.reader(file)\n",
        "    header = next(reader)  # Skip header\n",
        "    for row in reader:\n",
        "        data.append(row)\n",
        "\n",
        "# Shuffle the data\n",
        "random.shuffle(data)\n",
        "\n",
        "# Calculate the number of samples for test data\n",
        "test_size = int(0.3 * len(data))\n",
        "\n",
        "# Split data into train and test sets\n",
        "test_data = data[:test_size]\n",
        "train_data = data[test_size:]\n",
        "\n",
        "# Create folders for train and test data\n",
        "train_folder = \"Training\"\n",
        "test_folder = \"Testing\"\n",
        "os.makedirs(train_folder, exist_ok=True)\n",
        "os.makedirs(test_folder, exist_ok=True)\n",
        "\n",
        "# Function to copy images to destination folder\n",
        "def copy_images(data, destination_folder):\n",
        "    for row in data:\n",
        "        image_path = row[0]\n",
        "        label = row[1]\n",
        "        class_folder = os.path.join(destination_folder, \"yes\" if label == '1' else \"no\")\n",
        "        os.makedirs(class_folder, exist_ok=True)\n",
        "        shutil.copy(os.path.join(\"brain_tumor_dataset\", image_path), class_folder)\n",
        "\n",
        "# Copy train and test images to respective folders\n",
        "copy_images(train_data, train_folder)\n",
        "copy_images(test_data, test_folder)\n",
        "\n",
        "print(\"Train and test data copied to train and test folders.\")"
      ],
      "metadata": {
        "colab": {
          "base_uri": "https://localhost:8080/"
        },
        "id": "AFEpdEDOPEkp",
        "outputId": "3a416431-ac8a-4198-817d-7a16699a7451"
      },
      "execution_count": null,
      "outputs": [
        {
          "output_type": "stream",
          "name": "stdout",
          "text": [
            "Train and test data copied to train and test folders.\n"
          ]
        }
      ]
    },
    {
      "cell_type": "code",
      "source": [
        "from tensorflow import keras\n",
        "\n",
        "# Constants\n",
        "img_width, img_height = 224, 224\n",
        "batch_size = 32\n",
        "input_shape = (img_width, img_height, 3)\n",
        "epochs = 10\n",
        "\n",
        "# Set up data generators\n",
        "train_datagen = keras.preprocessing.image.ImageDataGenerator(rescale=1.0/255.0)\n",
        "test_datagen = keras.preprocessing.image.ImageDataGenerator(rescale=1.0/255.0)\n",
        "\n",
        "train_generator = train_datagen.flow_from_directory(\n",
        "    '/content/Training',\n",
        "    target_size=(img_width, img_height),\n",
        "    batch_size=batch_size,\n",
        "    class_mode='binary'\n",
        ")\n",
        "\n",
        "validation_generator = test_datagen.flow_from_directory(\n",
        "    '/content/Testing',\n",
        "    target_size=(img_width, img_height),\n",
        "    batch_size=batch_size,\n",
        "    class_mode='binary'\n",
        ")"
      ],
      "metadata": {
        "colab": {
          "base_uri": "https://localhost:8080/"
        },
        "id": "s0F6o5NXX5Um",
        "outputId": "3d58df04-6a87-498c-ee3b-b4e097adc0ab"
      },
      "execution_count": null,
      "outputs": [
        {
          "output_type": "stream",
          "name": "stdout",
          "text": [
            "Found 178 images belonging to 2 classes.\n",
            "Found 75 images belonging to 2 classes.\n"
          ]
        }
      ]
    },
    {
      "cell_type": "markdown",
      "source": [
        "**Simple CNN**"
      ],
      "metadata": {
        "id": "cAGA7VVGYHk2"
      }
    },
    {
      "cell_type": "code",
      "source": [
        "import os\n",
        "import time\n",
        "import numpy as np\n",
        "import tensorflow as tf\n",
        "from tensorflow import keras\n",
        "from tensorflow.keras import layers\n",
        "\n",
        "\n",
        "\n",
        "# Define CNN model\n",
        "def create_simple_cnn():\n",
        "    model = keras.Sequential([\n",
        "        layers.Conv2D(64, (3, 3), activation='relu', input_shape=input_shape),\n",
        "        layers.MaxPooling2D((2, 2)),\n",
        "        layers.Conv2D(128, (3, 3), activation='relu'),\n",
        "        layers.MaxPooling2D((2, 2)),\n",
        "        layers.Conv2D(256, (3, 3), activation='relu'),\n",
        "        layers.MaxPooling2D((2, 2)),\n",
        "        layers.Flatten(),\n",
        "        layers.Dense(256, activation='relu'),\n",
        "        layers.Dense(1, activation='sigmoid')\n",
        "    ])\n",
        "    return model\n",
        "\n",
        "# Create CNN model\n",
        "simple_cnn_model = create_simple_cnn()\n",
        "\n",
        "# Compile the model\n",
        "optimizer = tf.keras.optimizers.Adam(learning_rate=0.001)\n",
        "simple_cnn_model.compile(optimizer=optimizer, loss='binary_crossentropy', metrics=['accuracy'])\n",
        "\n",
        "\n",
        "# Train the model\n",
        "start_time = time.time()\n",
        "history = simple_cnn_model.fit(\n",
        "    train_generator,\n",
        "    steps_per_epoch=train_generator.samples // batch_size,\n",
        "    epochs=epochs,\n",
        "    validation_data=validation_generator,\n",
        "    validation_steps=validation_generator.samples // batch_size\n",
        ")\n",
        "end_time = time.time()\n",
        "\n",
        "# Evaluate the model on test data\n",
        "test_generator = test_datagen.flow_from_directory(\n",
        "    '/content/Testing',\n",
        "    target_size=(img_width, img_height),\n",
        "    batch_size=batch_size,\n",
        "    class_mode='binary',\n",
        "    shuffle=False\n",
        ")\n",
        "\n",
        "test_loss, test_acc = simple_cnn_model.evaluate(test_generator)\n",
        "print(f'Test accuracy: {test_acc}')\n",
        "\n",
        "# Print process time and metrics\n",
        "print(f'Time taken: {end_time - start_time} seconds')\n",
        "print(f'Training Acc: {np.mean(history.history[\"accuracy\"])}')\n",
        "print(f'Validation Acc: {np.mean(history.history[\"val_accuracy\"])}')\n",
        "print(f'Test Acc: {test_acc}')"
      ],
      "metadata": {
        "colab": {
          "base_uri": "https://localhost:8080/"
        },
        "id": "8nwYFg-fX0fo",
        "outputId": "126c910b-1242-4681-c8d6-d1b497591bc8"
      },
      "execution_count": null,
      "outputs": [
        {
          "output_type": "stream",
          "name": "stdout",
          "text": [
            "Epoch 1/10\n",
            "5/5 [==============================] - 53s 10s/step - loss: 1.8917 - accuracy: 0.4658 - val_loss: 0.5902 - val_accuracy: 0.7969\n",
            "Epoch 2/10\n",
            "5/5 [==============================] - 58s 12s/step - loss: 0.6564 - accuracy: 0.7260 - val_loss: 0.6184 - val_accuracy: 0.7188\n",
            "Epoch 3/10\n",
            "5/5 [==============================] - 51s 10s/step - loss: 0.5073 - accuracy: 0.8082 - val_loss: 0.4430 - val_accuracy: 0.8281\n",
            "Epoch 4/10\n",
            "5/5 [==============================] - 56s 12s/step - loss: 0.5221 - accuracy: 0.7466 - val_loss: 0.4704 - val_accuracy: 0.7969\n",
            "Epoch 5/10\n",
            "5/5 [==============================] - 55s 12s/step - loss: 0.4523 - accuracy: 0.8082 - val_loss: 0.4308 - val_accuracy: 0.8125\n",
            "Epoch 6/10\n",
            "5/5 [==============================] - 55s 11s/step - loss: 0.4104 - accuracy: 0.8313 - val_loss: 0.3988 - val_accuracy: 0.8750\n",
            "Epoch 7/10\n",
            "5/5 [==============================] - 62s 13s/step - loss: 0.3523 - accuracy: 0.8493 - val_loss: 0.3701 - val_accuracy: 0.8438\n",
            "Epoch 8/10\n",
            "5/5 [==============================] - 55s 11s/step - loss: 0.2954 - accuracy: 0.8630 - val_loss: 0.3375 - val_accuracy: 0.8750\n",
            "Epoch 9/10\n",
            "5/5 [==============================] - 56s 12s/step - loss: 0.2390 - accuracy: 0.9384 - val_loss: 0.3260 - val_accuracy: 0.8750\n",
            "Epoch 10/10\n",
            "5/5 [==============================] - 55s 11s/step - loss: 0.1770 - accuracy: 0.9315 - val_loss: 0.4470 - val_accuracy: 0.8281\n",
            "Found 75 images belonging to 2 classes.\n",
            "3/3 [==============================] - 7s 2s/step - loss: 0.3898 - accuracy: 0.8533\n",
            "Test accuracy: 0.8533333539962769\n",
            "Time taken: 680.5105452537537 seconds\n",
            "Training Acc: 0.7968236327171325\n",
            "Validation Acc: 0.825\n",
            "Test Acc: 0.8533333539962769\n"
          ]
        }
      ]
    },
    {
      "cell_type": "markdown",
      "source": [
        "**vgg16**"
      ],
      "metadata": {
        "id": "r7v09nIVVAvB"
      }
    },
    {
      "cell_type": "code",
      "source": [
        "# Load the pre-trained VGG16 model\n",
        "base_model = VGG16(weights='imagenet', include_top=False, input_shape=(img_width, img_height, 3))\n",
        "\n",
        "# Freeze the layers in the base model\n",
        "base_model.trainable = False\n",
        "\n",
        "# Build the model on top of the VGG16 base\n",
        "model = keras.Sequential([\n",
        "    base_model,\n",
        "    layers.Flatten(),\n",
        "    layers.Dense(128, activation='relu'),\n",
        "    layers.Dropout(0.5),\n",
        "    layers.Dense(1, activation='sigmoid')\n",
        "])\n",
        "\n",
        "# Compile the model\n",
        "optimizer = tf.keras.optimizers.Adam(learning_rate=0.001)\n",
        "model.compile(optimizer=optimizer, loss='binary_crossentropy', metrics=['accuracy'])\n",
        "\n",
        "# Train the model\n",
        "start_time = time.time()\n",
        "history = model.fit(\n",
        "    train_generator,\n",
        "    steps_per_epoch=train_generator.samples // batch_size,\n",
        "    epochs=epochs,\n",
        "    validation_data=validation_generator,\n",
        "    validation_steps=validation_generator.samples // batch_size\n",
        ")\n",
        "end_time = time.time()\n",
        "\n",
        "# Evaluate the model on test data\n",
        "test_loss, test_acc = model.evaluate(test_generator)\n",
        "print(f'Test accuracy: {test_acc}')\n",
        "\n",
        "# Print process time and metrics\n",
        "print(f'Time taken: {end_time - start_time} seconds')\n",
        "print(f'Training Acc: {np.mean(history.history[\"accuracy\"])}')\n",
        "print(f'Validation Acc: {np.mean(history.history[\"val_accuracy\"])}')\n",
        "print(f'Test Acc: {test_acc}')"
      ],
      "metadata": {
        "colab": {
          "base_uri": "https://localhost:8080/"
        },
        "id": "39j9-jKnUiI5",
        "outputId": "24367f8d-41a8-48ce-df94-51c15e12c831"
      },
      "execution_count": null,
      "outputs": [
        {
          "output_type": "stream",
          "name": "stdout",
          "text": [
            "Epoch 1/10\n",
            "5/5 [==============================] - 137s 29s/step - loss: 2.0931 - accuracy: 0.5688 - val_loss: 0.3474 - val_accuracy: 0.8281\n",
            "Epoch 2/10\n",
            "5/5 [==============================] - 132s 28s/step - loss: 1.0206 - accuracy: 0.6233 - val_loss: 0.5826 - val_accuracy: 0.8125\n",
            "Epoch 3/10\n",
            "5/5 [==============================] - 127s 29s/step - loss: 1.1033 - accuracy: 0.7192 - val_loss: 0.4944 - val_accuracy: 0.8125\n",
            "Epoch 4/10\n",
            "5/5 [==============================] - 125s 27s/step - loss: 0.5695 - accuracy: 0.8014 - val_loss: 0.6882 - val_accuracy: 0.7969\n",
            "Epoch 5/10\n",
            "5/5 [==============================] - 134s 28s/step - loss: 0.4499 - accuracy: 0.8425 - val_loss: 0.4305 - val_accuracy: 0.8281\n",
            "Epoch 6/10\n",
            "5/5 [==============================] - 127s 27s/step - loss: 0.4317 - accuracy: 0.8288 - val_loss: 0.3269 - val_accuracy: 0.8594\n",
            "Epoch 7/10\n",
            "5/5 [==============================] - 132s 28s/step - loss: 0.3287 - accuracy: 0.8630 - val_loss: 0.4884 - val_accuracy: 0.7656\n",
            "Epoch 8/10\n",
            "5/5 [==============================] - 125s 29s/step - loss: 0.3078 - accuracy: 0.8562 - val_loss: 0.2909 - val_accuracy: 0.8594\n",
            "Epoch 9/10\n",
            "5/5 [==============================] - 122s 26s/step - loss: 0.2771 - accuracy: 0.8904 - val_loss: 0.3032 - val_accuracy: 0.8750\n",
            "Epoch 10/10\n",
            "5/5 [==============================] - 125s 27s/step - loss: 0.2318 - accuracy: 0.8767 - val_loss: 0.3449 - val_accuracy: 0.8125\n",
            "3/3 [==============================] - 44s 12s/step - loss: 0.3144 - accuracy: 0.8400\n",
            "Test accuracy: 0.8399999737739563\n",
            "Time taken: 1319.6984350681305 seconds\n",
            "Training Acc: 0.7870119869709015\n",
            "Validation Acc: 0.825\n",
            "Test Acc: 0.8399999737739563\n"
          ]
        }
      ]
    },
    {
      "cell_type": "markdown",
      "source": [
        "**Bayes by Backpropagation**"
      ],
      "metadata": {
        "id": "xQAOJxc4VFD0"
      }
    },
    {
      "cell_type": "markdown",
      "source": [
        " incorporate regularization techniques such as L2 regularization and dropout.\n",
        "\n",
        "\n",
        " the learning rate is reduced to 0.0001, and the strength of regularization is increased to 0.001. These changes aim to help the model converge to a lower loss value."
      ],
      "metadata": {
        "id": "R8CEEsF7kuEZ"
      }
    },
    {
      "cell_type": "code",
      "source": [
        "from tensorflow.keras import regularizers\n",
        "\n",
        "# Define Bayesian Neural Network model with increased capacity and regularization\n",
        "def bayesian_model_regularized():\n",
        "    inputs = keras.Input(shape=input_shape)\n",
        "    x = layers.Conv2D(64, 3, activation=\"relu\", kernel_regularizer=regularizers.l2(0.001))(inputs)\n",
        "    x = layers.BatchNormalization()(x)\n",
        "    x = layers.MaxPooling2D(pool_size=(2, 2))(x)\n",
        "    x = layers.Conv2D(128, 3, activation=\"relu\", kernel_regularizer=regularizers.l2(0.001))(x)\n",
        "    x = layers.BatchNormalization()(x)\n",
        "    x = layers.MaxPooling2D(pool_size=(2, 2))(x)\n",
        "    x = layers.Conv2D(256, 3, activation=\"relu\", kernel_regularizer=regularizers.l2(0.001))(x)\n",
        "    x = layers.BatchNormalization()(x)\n",
        "    x = layers.MaxPooling2D(pool_size=(2, 2))(x)\n",
        "    x = layers.Flatten()(x)\n",
        "    x = layers.Dropout(0.5)(x)\n",
        "    outputs = layers.Dense(1, activation=\"sigmoid\")(x)\n",
        "    return keras.Model(inputs, outputs)\n",
        "\n",
        "# Define and compile the Bayesian model\n",
        "bayesian_model = bayesian_model_regularized()\n",
        "optimizer = tf.keras.optimizers.Adam(learning_rate=0.0001)  # Adjust learning rate\n",
        "bayesian_model.compile(optimizer=optimizer, loss=\"binary_crossentropy\", metrics=[\"accuracy\"])\n",
        "\n",
        "# Track training, validation, and test accuracy\n",
        "train_accs = []\n",
        "val_accs = []\n",
        "\n",
        "# Train the Bayesian model\n",
        "start_time = time.time()\n",
        "for epoch in range(epochs):\n",
        "    print(f\"Epoch {epoch+1}/{epochs}\")\n",
        "    history = bayesian_model.fit(\n",
        "        train_generator,\n",
        "        steps_per_epoch=train_generator.samples // batch_size,\n",
        "        epochs=1,\n",
        "        validation_data=validation_generator,\n",
        "        validation_steps=validation_generator.samples // batch_size\n",
        "    )\n",
        "    train_accs.append(history.history['accuracy'][0])\n",
        "    val_accs.append(history.history['val_accuracy'][0])\n",
        "\n",
        "end_time = time.time()\n",
        "\n",
        "# Evaluate the model on test data\n",
        "test_loss, test_acc = bayesian_model.evaluate(test_generator)\n",
        "print(f'Test accuracy (Bayesian Model): {test_acc}')\n",
        "print(f'Test loss (Bayesian Model): {test_loss}')\n",
        "\n",
        "# Calculate validation-test mismatch\n",
        "val_test_mismatch = np.abs(np.mean(val_accs) - test_acc)\n",
        "\n",
        "# Print process time and metrics\n",
        "print(f'Time taken: {end_time - start_time} seconds')\n",
        "print(f'Training Acc (Bayesian Model): {np.mean(train_accs)}')\n",
        "print(f'Validation Acc (Bayesian Model): {np.mean(val_accs)}')\n",
        "print(f'Test Acc (Bayesian Model): {test_acc}')\n",
        "#print(f'Val-Test Mismatch: {val_test_mismatch}')"
      ],
      "metadata": {
        "colab": {
          "base_uri": "https://localhost:8080/"
        },
        "id": "XrG-pc6llwwS",
        "outputId": "8f2eb583-6f4a-4d23-e879-4c08c3e154ac"
      },
      "execution_count": null,
      "outputs": [
        {
          "output_type": "stream",
          "name": "stdout",
          "text": [
            "Epoch 1/10\n",
            "5/5 [==============================] - 65s 14s/step - loss: 2.1587 - accuracy: 0.6712 - val_loss: 0.9039 - val_accuracy: 0.7969\n",
            "Epoch 2/10\n",
            "5/5 [==============================] - 68s 14s/step - loss: 1.2944 - accuracy: 0.8000 - val_loss: 0.9074 - val_accuracy: 0.6719\n",
            "Epoch 3/10\n",
            "5/5 [==============================] - 63s 14s/step - loss: 0.6713 - accuracy: 0.8699 - val_loss: 0.9115 - val_accuracy: 0.6094\n",
            "Epoch 4/10\n",
            "5/5 [==============================] - 63s 13s/step - loss: 0.6191 - accuracy: 0.8630 - val_loss: 0.8931 - val_accuracy: 0.6719\n",
            "Epoch 5/10\n",
            "5/5 [==============================] - 65s 13s/step - loss: 0.3514 - accuracy: 0.9625 - val_loss: 0.9158 - val_accuracy: 0.7969\n",
            "Epoch 6/10\n",
            "5/5 [==============================] - 60s 13s/step - loss: 0.3847 - accuracy: 0.9658 - val_loss: 0.9067 - val_accuracy: 0.7969\n",
            "Epoch 7/10\n",
            "5/5 [==============================] - 68s 14s/step - loss: 0.3169 - accuracy: 0.9812 - val_loss: 0.9123 - val_accuracy: 0.8438\n",
            "Epoch 8/10\n",
            "5/5 [==============================] - 60s 12s/step - loss: 0.2935 - accuracy: 0.9932 - val_loss: 0.9076 - val_accuracy: 0.8125\n",
            "Epoch 9/10\n",
            "5/5 [==============================] - 59s 12s/step - loss: 0.3279 - accuracy: 0.9726 - val_loss: 0.8784 - val_accuracy: 0.6719\n",
            "Epoch 10/10\n",
            "5/5 [==============================] - 60s 12s/step - loss: 0.2915 - accuracy: 0.9863 - val_loss: 0.8736 - val_accuracy: 0.6719\n",
            "3/3 [==============================] - 9s 2s/step - loss: 0.8836 - accuracy: 0.6533\n",
            "Test accuracy (Bayesian Model): 0.653333306312561\n",
            "Test loss (Bayesian Model): 0.8835525512695312\n",
            "Time taken: 750.0218031406403 seconds\n",
            "Training Acc (Bayesian Model): 0.9065667808055877\n",
            "Validation Acc (Bayesian Model): 0.734375\n",
            "Test Acc (Bayesian Model): 0.653333306312561\n"
          ]
        }
      ]
    },
    {
      "cell_type": "markdown",
      "source": [
        "**Bayesian Neural Network (BNN) using the traditional approach**"
      ],
      "metadata": {
        "id": "WaIxS8ojVOdB"
      }
    },
    {
      "cell_type": "code",
      "source": [
        "# Define Bayesian Neural Network model\n",
        "def create_bayesian_model():\n",
        "    inputs = keras.Input(shape=input_shape)\n",
        "    x = layers.Conv2D(32, 3, activation=\"relu\")(inputs)\n",
        "    x = layers.MaxPooling2D(pool_size=(2, 2))(x)\n",
        "    x = layers.Conv2D(64, 3, activation=\"relu\")(x)\n",
        "    x = layers.MaxPooling2D(pool_size=(2, 2))(x)\n",
        "    x = layers.Conv2D(128, 3, activation=\"relu\")(x)\n",
        "    x = layers.MaxPooling2D(pool_size=(2, 2))(x)\n",
        "    x = layers.Flatten()(x)\n",
        "    x = layers.Dropout(0.5)(x)\n",
        "    outputs = layers.Dense(1, activation=\"sigmoid\")(x)\n",
        "    return keras.Model(inputs, outputs)\n",
        "\n",
        "# Define and compile the Bayesian model\n",
        "bayesian_model = create_bayesian_model()\n",
        "bayesian_model.compile(optimizer=\"adam\", loss=\"binary_crossentropy\", metrics=[\"accuracy\"])\n",
        "\n",
        "\n",
        "# Track training, validation, and test accuracy\n",
        "train_accs = []\n",
        "val_accs = []\n",
        "\n",
        "# Train the Bayesian model\n",
        "start_time = time.time()\n",
        "for epoch in range(epochs):\n",
        "    print(f\"Epoch {epoch+1}/{epochs}\")\n",
        "    history = bayesian_model.fit(\n",
        "        train_generator,\n",
        "        steps_per_epoch=train_generator.samples // batch_size,\n",
        "        epochs=1,\n",
        "        validation_data=validation_generator,  # Provide validation data here\n",
        "        validation_steps=validation_generator.samples // batch_size\n",
        "    )\n",
        "    train_accs.append(history.history['accuracy'][0])\n",
        "    val_accs.append(history.history.get('val_accuracy', [0])[0])  # Use get() method to handle missing validation accuracy\n",
        "\n",
        "end_time = time.time()\n",
        "\n",
        "# Evaluate the model on test data\n",
        "test_loss, test_acc = bayesian_model.evaluate(test_generator)\n",
        "print(f'Test accuracy: {test_acc}')\n",
        "\n",
        "# Calculate validation-test mismatch\n",
        "val_test_mismatch = np.abs(np.mean(val_accs) - test_acc)\n",
        "\n",
        "# Print process time and metrics\n",
        "print(f'Time taken: {end_time - start_time} seconds')\n",
        "print(f'Training Acc: {np.mean(train_accs)}')\n",
        "print(f'Validation Acc: {np.mean(val_accs)}')\n",
        "print(f'Test Acc: {test_acc}')\n",
        "print(f'Val-Test Mismatch: {val_test_mismatch}')\n"
      ],
      "metadata": {
        "colab": {
          "base_uri": "https://localhost:8080/"
        },
        "id": "YrI9HrBqVMw1",
        "outputId": "dccffeb1-b9aa-48df-d0f4-e4a546e9b157"
      },
      "execution_count": null,
      "outputs": [
        {
          "output_type": "stream",
          "name": "stdout",
          "text": [
            "Epoch 1/10\n",
            "5/5 [==============================] - 19s 4s/step - loss: 0.5919 - accuracy: 0.6918 - val_loss: 0.4522 - val_accuracy: 0.7969\n",
            "Epoch 2/10\n",
            "5/5 [==============================] - 18s 4s/step - loss: 0.5214 - accuracy: 0.7466 - val_loss: 0.4974 - val_accuracy: 0.7500\n",
            "Epoch 3/10\n",
            "5/5 [==============================] - 18s 4s/step - loss: 0.4616 - accuracy: 0.8288 - val_loss: 0.4772 - val_accuracy: 0.7969\n",
            "Epoch 4/10\n",
            "5/5 [==============================] - 20s 4s/step - loss: 0.4462 - accuracy: 0.8062 - val_loss: 0.4284 - val_accuracy: 0.8125\n",
            "Epoch 5/10\n",
            "5/5 [==============================] - 18s 4s/step - loss: 0.4094 - accuracy: 0.8219 - val_loss: 0.3648 - val_accuracy: 0.8438\n",
            "Epoch 6/10\n",
            "5/5 [==============================] - 17s 4s/step - loss: 0.3162 - accuracy: 0.8630 - val_loss: 0.3443 - val_accuracy: 0.8594\n",
            "Epoch 7/10\n",
            "5/5 [==============================] - 17s 4s/step - loss: 0.2579 - accuracy: 0.8904 - val_loss: 0.3431 - val_accuracy: 0.8438\n",
            "Epoch 8/10\n",
            "5/5 [==============================] - 21s 4s/step - loss: 0.1896 - accuracy: 0.9315 - val_loss: 0.3179 - val_accuracy: 0.9062\n",
            "Epoch 9/10\n",
            "5/5 [==============================] - 17s 4s/step - loss: 0.1896 - accuracy: 0.9041 - val_loss: 0.4108 - val_accuracy: 0.8594\n",
            "Epoch 10/10\n",
            "5/5 [==============================] - 18s 4s/step - loss: 0.1575 - accuracy: 0.9315 - val_loss: 0.4205 - val_accuracy: 0.8750\n",
            "3/3 [==============================] - 2s 584ms/step - loss: 0.3914 - accuracy: 0.8800\n",
            "Test accuracy: 0.8799999952316284\n",
            "Time taken: 196.72694373130798 seconds\n",
            "Training Acc: 0.8415839076042175\n",
            "Validation Acc: 0.834375\n",
            "Test Acc: 0.8799999952316284\n",
            "Val-Test Mismatch: 0.04562499523162844\n"
          ]
        }
      ]
    },
    {
      "cell_type": "markdown",
      "source": [
        "**2D cnn**"
      ],
      "metadata": {
        "id": "x7Gs5sJWVZVb"
      }
    },
    {
      "cell_type": "code",
      "source": [
        "# Define the model\n",
        "model = Sequential([\n",
        "    Conv2D(32, kernel_size=(3, 3), activation='relu', input_shape=(224, 224, 3)),\n",
        "    MaxPooling2D(pool_size=(2, 2)),\n",
        "    Conv2D(64, kernel_size=(3, 3), activation='relu'),\n",
        "    MaxPooling2D(pool_size=(2, 2)),\n",
        "    Flatten(),\n",
        "    Dense(128, activation='relu'),\n",
        "    Dense(1, activation='sigmoid')\n",
        "])\n",
        "# Compile the model\n",
        "model.compile(optimizer='adam', loss='binary_crossentropy', metrics=['accuracy'])\n",
        "\n",
        "# Record the start time\n",
        "start_time = time.time()\n",
        "\n",
        "# Train the model\n",
        "history = model.fit(\n",
        "    train_generator,\n",
        "    validation_data=validation_generator,\n",
        "    epochs=10\n",
        ")\n",
        "\n",
        "# Record the end time\n",
        "end_time = time.time()\n",
        "\n",
        "# Calculate the training time\n",
        "training_time = end_time - start_time\n",
        "print(f\"Training Time: {training_time} seconds\")\n",
        "\n",
        "# Evaluate the model on test data\n",
        "test_loss, test_acc = model.evaluate(test_generator)\n",
        "print(f'Test accuracy: {test_acc}')\n",
        "\n",
        "# Print process time and metrics\n",
        "print(f'Time taken: {end_time - start_time} seconds')\n",
        "print(f'Training Acc: {np.mean(history.history[\"accuracy\"])}')\n",
        "print(f'Validation Acc: {np.mean(history.history[\"val_accuracy\"])}')\n",
        "print(f'Test Acc: {test_acc}')\n",
        "\n",
        "# Plot training history\n",
        "plt.figure(figsize=(12, 6))\n",
        "\n",
        "# Plot training & validation accuracy values\n",
        "plt.subplot(1, 2, 1)\n",
        "plt.plot(history.history['accuracy'])\n",
        "plt.plot(history.history['val_accuracy'])\n",
        "plt.title('Model Accuracy')\n",
        "plt.xlabel('Epoch')\n",
        "plt.ylabel('Accuracy')\n",
        "plt.legend(['Train', 'Validation'], loc='upper left')\n",
        "\n",
        "# Plot training & validation loss values\n",
        "plt.subplot(1, 2, 2)\n",
        "plt.plot(history.history['loss'])\n",
        "plt.plot(history.history['val_loss'])\n",
        "plt.title('Model Loss')\n",
        "plt.xlabel('Epoch')\n",
        "plt.ylabel('Loss')\n",
        "plt.legend(['Train', 'Validation'], loc='upper left')\n",
        "\n",
        "plt.tight_layout()\n",
        "plt.show()\n"
      ],
      "metadata": {
        "colab": {
          "base_uri": "https://localhost:8080/",
          "height": 973
        },
        "id": "dmEVuO_aVQ2c",
        "outputId": "2316c1e3-d59e-4eed-f591-8c8640adba4f"
      },
      "execution_count": null,
      "outputs": [
        {
          "output_type": "stream",
          "name": "stdout",
          "text": [
            "Epoch 1/10\n",
            "6/6 [==============================] - 21s 3s/step - loss: 4.2075 - accuracy: 0.5000 - val_loss: 0.7224 - val_accuracy: 0.5200\n",
            "Epoch 2/10\n",
            "6/6 [==============================] - 19s 3s/step - loss: 0.6215 - accuracy: 0.5899 - val_loss: 0.5529 - val_accuracy: 0.7067\n",
            "Epoch 3/10\n",
            "6/6 [==============================] - 18s 3s/step - loss: 0.5581 - accuracy: 0.7472 - val_loss: 0.5475 - val_accuracy: 0.7733\n",
            "Epoch 4/10\n",
            "6/6 [==============================] - 19s 3s/step - loss: 0.4693 - accuracy: 0.7865 - val_loss: 0.4752 - val_accuracy: 0.8133\n",
            "Epoch 5/10\n",
            "6/6 [==============================] - 18s 3s/step - loss: 0.4157 - accuracy: 0.8034 - val_loss: 0.4855 - val_accuracy: 0.8133\n",
            "Epoch 6/10\n",
            "6/6 [==============================] - 19s 3s/step - loss: 0.3401 - accuracy: 0.8652 - val_loss: 0.3876 - val_accuracy: 0.8533\n",
            "Epoch 7/10\n",
            "6/6 [==============================] - 18s 3s/step - loss: 0.2414 - accuracy: 0.9101 - val_loss: 0.3622 - val_accuracy: 0.8800\n",
            "Epoch 8/10\n",
            "6/6 [==============================] - 20s 3s/step - loss: 0.1682 - accuracy: 0.9438 - val_loss: 0.3617 - val_accuracy: 0.8933\n",
            "Epoch 9/10\n",
            "6/6 [==============================] - 18s 3s/step - loss: 0.1026 - accuracy: 0.9663 - val_loss: 0.4396 - val_accuracy: 0.8800\n",
            "Epoch 10/10\n",
            "6/6 [==============================] - 19s 3s/step - loss: 0.0566 - accuracy: 0.9944 - val_loss: 0.4073 - val_accuracy: 0.8933\n",
            "Training Time: 199.08247637748718 seconds\n",
            "3/3 [==============================] - 2s 460ms/step - loss: 0.4073 - accuracy: 0.8933\n",
            "Test accuracy: 0.8933333158493042\n",
            "Time taken: 199.08247637748718 seconds\n",
            "Training Acc: 0.8106741547584534\n",
            "Validation Acc: 0.8026666581630707\n",
            "Test Acc: 0.8933333158493042\n"
          ]
        },
        {
          "output_type": "display_data",
          "data": {
            "text/plain": [
              "<Figure size 1200x600 with 2 Axes>"
            ],
            "image/png": "[encoded data removed]"
          },
          "metadata": {}
        }
      ]
    },
    {
      "cell_type": "markdown",
      "source": [
        "**U-Net**"
      ],
      "metadata": {
        "id": "tXIu4me7VjBU"
      }
    },
    {
      "cell_type": "code",
      "source": [
        "import tensorflow as tf\n",
        "from tensorflow.keras.layers import Input, Conv2D, MaxPooling2D, Dropout, Conv2DTranspose, concatenate, BatchNormalization, GlobalAveragePooling2D, Dense\n",
        "from tensorflow.keras.models import Model\n",
        "from tensorflow.keras.optimizers import Adam\n",
        "import tensorflow_probability as tfp\n",
        "\n",
        "tfd = tfp.distributions\n",
        "\n",
        "def unet(input_shape=(256, 256, 3)):\n",
        "    inputs = Input(input_shape)\n",
        "\n",
        "    conv1 = Conv2D(64, 3, activation='relu', padding='same')(inputs)\n",
        "    conv1 = Conv2D(64, 3, activation='relu', padding='same')(conv1)\n",
        "    pool1 = MaxPooling2D(pool_size=(2, 2))(conv1)\n",
        "\n",
        "    conv2 = Conv2D(128, 3, activation='relu', padding='same')(pool1)\n",
        "    conv2 = Conv2D(128, 3, activation='relu', padding='same')(conv2)\n",
        "    pool2 = MaxPooling2D(pool_size=(2, 2))(conv2)\n",
        "\n",
        "    conv3 = Conv2D(256, 3, activation='relu', padding='same')(pool2)\n",
        "    conv3 = Conv2D(256, 3, activation='relu', padding='same')(conv3)\n",
        "    pool3 = MaxPooling2D(pool_size=(2, 2))(conv3)\n",
        "\n",
        "    conv4 = Conv2D(512, 3, activation='relu', padding='same')(pool3)\n",
        "    conv4 = Conv2D(512, 3, activation='relu', padding='same')(conv4)\n",
        "    drop4 = Dropout(0.5)(conv4)\n",
        "    pool4 = MaxPooling2D(pool_size=(2, 2))(drop4)\n",
        "\n",
        "    conv5 = Conv2D(1024, 3, activation='relu', padding='same')(pool4)\n",
        "    conv5 = Conv2D(1024, 3, activation='relu', padding='same')(conv5)\n",
        "    drop5 = Dropout(0.5)(conv5)\n",
        "\n",
        "    up6 = Conv2DTranspose(512, 2, strides=(2, 2), padding='same')(drop5)\n",
        "    merge6 = concatenate([drop4, up6], axis=3)\n",
        "    conv6 = Conv2D(512, 3, activation='relu', padding='same')(merge6)\n",
        "    conv6 = Conv2D(512, 3, activation='relu', padding='same')(conv6)\n",
        "\n",
        "    up7 = Conv2DTranspose(256, 2, strides=(2, 2), padding='same')(conv6)\n",
        "    merge7 = concatenate([conv3, up7], axis=3)\n",
        "    conv7 = Conv2D(256, 3, activation='relu', padding='same')(merge7)\n",
        "    conv7 = Conv2D(256, 3, activation='relu', padding='same')(conv7)\n",
        "\n",
        "    up8 = Conv2DTranspose(128, 2, strides=(2, 2), padding='same')(conv7)\n",
        "    merge8 = concatenate([conv2, up8], axis=3)\n",
        "    conv8 = Conv2D(128, 3, activation='relu', padding='same')(merge8)\n",
        "    conv8 = Conv2D(128, 3, activation='relu', padding='same')(conv8)\n",
        "\n",
        "    up9 = Conv2DTranspose(64, 2, strides=(2, 2), padding='same')(conv8)\n",
        "    merge9 = concatenate([conv1, up9], axis=3)\n",
        "    conv9 = Conv2D(64, 3, activation='relu', padding='same')(merge9)\n",
        "    conv9 = Conv2D(64, 3, activation='relu', padding='same')(conv9)\n",
        "\n",
        "    # Batch normalization for better convergence\n",
        "    conv9 = BatchNormalization()(conv9)\n",
        "\n",
        "    # Global average pooling to collapse spatial dimensions\n",
        "    gap = GlobalAveragePooling2D()(conv9)\n",
        "\n",
        "    # Output layer with sigmoid activation for binary classification\n",
        "    outputs = Dense(1, activation='sigmoid')(gap)\n",
        "\n",
        "    model = Model(inputs=inputs, outputs=outputs)\n",
        "    return model\n",
        "\n",
        "# Define Bayesian U-Net model\n",
        "def bayesian_unet(input_shape=(256, 256, 3)):\n",
        "    inputs = Input(input_shape)\n",
        "\n",
        "    # Define priors for weights\n",
        "    prior_scale = 1.0\n",
        "    w_prior = tfd.Normal(loc=0., scale=prior_scale)\n",
        "\n",
        "    conv1 = Conv2D(64, 3, padding='same')(inputs)\n",
        "    conv1 = Conv2D(64, 3, padding='same')(conv1)\n",
        "    pool1 = MaxPooling2D(pool_size=(2, 2))(conv1)\n",
        "\n",
        "    conv2 = Conv2D(128, 3, padding='same')(pool1)\n",
        "    conv2 = Conv2D(128, 3, padding='same')(conv2)\n",
        "    pool2 = MaxPooling2D(pool_size=(2, 2))(conv2)\n",
        "\n",
        "    conv3 = Conv2D(256, 3, padding='same')(pool2)\n",
        "    conv3 = Conv2D(256, 3, padding='same')(conv3)\n",
        "    pool3 = MaxPooling2D(pool_size=(2, 2))(conv3)\n",
        "\n",
        "    conv4 = Conv2D(512, 3, padding='same')(pool3)\n",
        "    conv4 = Conv2D(512, 3, padding='same')(conv4)\n",
        "    drop4 = Dropout(0.5)(conv4)\n",
        "    pool4 = MaxPooling2D(pool_size=(2, 2))(drop4)\n",
        "\n",
        "    conv5 = Conv2D(1024, 3, padding='same')(pool4)\n",
        "    conv5 = Conv2D(1024, 3, padding='same')(conv5)\n",
        "    drop5 = Dropout(0.5)(conv5)\n",
        "\n",
        "    up6 = Conv2DTranspose(512, 2, strides=(2, 2), padding='same')(drop5)\n",
        "    merge6 = concatenate([drop4, up6], axis=3)\n",
        "    conv6 = Conv2D(512, 3, padding='same')(merge6)\n",
        "    conv6 = Conv2D(512, 3, padding='same')(conv6)\n",
        "\n",
        "    up7 = Conv2DTranspose(256, 2, strides=(2, 2), padding='same')(conv6)\n",
        "    merge7 = concatenate([conv3, up7], axis=3)\n",
        "    conv7 = Conv2D(256, 3, padding='same')(merge7)\n",
        "    conv7 = Conv2D(256, 3, padding='same')(conv7)\n",
        "\n",
        "    up8 = Conv2DTranspose(128, 2, strides=(2, 2), padding='same')(conv7)\n",
        "    merge8 = concatenate([conv2, up8], axis=3)\n",
        "    conv8 = Conv2D(128, 3, padding='same')(merge8)\n",
        "    conv8 = Conv2D(128, 3, padding='same')(conv8)\n",
        "\n",
        "    up9 = Conv2DTranspose(64, 2, strides=(2, 2), padding='same')(conv8)\n",
        "    merge9 = concatenate([conv1, up9], axis=3)\n",
        "    conv9 = Conv2D(64, 3, padding='same')(merge9)\n",
        "    conv9 = Conv2D(64, 3, padding='same')(conv9)\n",
        "\n",
        "    # Batch normalization for better convergence\n",
        "    conv9 = BatchNormalization()(conv9)\n",
        "\n",
        "    # Global average pooling to collapse spatial dimensions\n",
        "    gap = GlobalAveragePooling2D()(conv9)\n",
        "\n",
        "    # Output layer with Bayesian Dense layer\n",
        "    outputs = tfp.layers.DenseFlipout(1)(gap)\n",
        "\n",
        "    model = Model(inputs=inputs, outputs=outputs)\n",
        "    return model\n",
        "\n",
        "# Instantiate the Bayesian U-Net model\n",
        "model = bayesian_unet(input_shape=(img_width, img_height, 3))\n",
        "\n",
        "# Define the custom loss function\n",
        "def negative_log_likelihood(y_true, y_pred):\n",
        "    # Get the probability distribution from the output\n",
        "    dist = tfd.Bernoulli(logits=y_pred)\n",
        "    # Compute the negative log likelihood\n",
        "    return -tf.reduce_mean(dist.log_prob(y_true))\n",
        "\n",
        "# Compile the model with the custom loss function\n",
        "model.compile(optimizer='adam', loss=negative_log_likelihood, metrics=['accuracy'])\n"
      ],
      "metadata": {
        "id": "UVt77Z5-Vb9r"
      },
      "execution_count": null,
      "outputs": []
    },
    {
      "cell_type": "code",
      "source": [
        "import time\n",
        "# Record the start time\n",
        "start_time = time.time()\n",
        "\n",
        "# Train the model\n",
        "history = model.fit(\n",
        "    train_generator,\n",
        "    steps_per_epoch=train_generator.samples // batch_size,\n",
        "    epochs=10,\n",
        "    validation_data=validation_generator,\n",
        "    validation_steps=validation_generator.samples // batch_size\n",
        ")\n",
        "\n",
        "# Record the end time\n",
        "end_time = time.time()\n",
        "\n",
        "# Calculate the training time\n",
        "training_time = end_time - start_time\n",
        "print(f\"Training Time: {training_time} seconds\")\n",
        "\n",
        "# Evaluate the model on test data\n",
        "test_loss, test_acc = model.evaluate(test_generator)\n",
        "print(f'Test accuracy: {test_acc}')\n",
        "\n",
        "# Print process time and metrics\n",
        "print(f'Time taken: {end_time - start_time} seconds')\n",
        "print(f'Training Acc: {np.mean(history.history[\"accuracy\"])}')\n",
        "print(f'Validation Acc: {np.mean(history.history[\"val_accuracy\"])}')\n",
        "print(f'Test Acc: {test_acc}')\n"
      ],
      "metadata": {
        "colab": {
          "base_uri": "https://localhost:8080/"
        },
        "id": "xzSEK08YVlkJ",
        "outputId": "b37f9be3-bd78-4680-bb7f-1e848f7f49f5"
      },
      "execution_count": null,
      "outputs": [
        {
          "output_type": "stream",
          "name": "stdout",
          "text": [
            "Epoch 1/10\n",
            "5/5 [==============================] - 909s 183s/step - loss: 161.7669 - accuracy: 0.4863 - val_loss: 178.3475 - val_accuracy: 0.6562\n",
            "Epoch 2/10\n",
            "2/5 [===========>..................] - ETA: 8:13 - loss: 161.4420 - accuracy: 0.5625 "
          ]
        }
      ]
    },
    {
      "cell_type": "code",
      "source": [],
      "metadata": {
        "id": "l_-Nqrq14z2s"
      },
      "execution_count": null,
      "outputs": []
    }
  ]
}